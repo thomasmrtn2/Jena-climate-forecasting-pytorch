{
 "cells": [
  {
   "cell_type": "code",
   "execution_count": 148,
   "id": "4fe543e4",
   "metadata": {},
   "outputs": [],
   "source": [
    "import torch\n",
    "import torch.nn as nn\n",
    "import torch.nn.functional as F\n",
    "from torch.utils.data import DataLoader, TensorDataset\n",
    "import torch.optim as optim\n",
    "import pandas as pd\n",
    "import numpy as np\n",
    "from sklearn.preprocessing import StandardScaler\n",
    "import torch.nn.functional as F"
   ]
  },
  {
   "cell_type": "markdown",
   "id": "f5476613",
   "metadata": {},
   "source": [
    "### 1️⃣ Data Loading & Initial Preprocessing"
   ]
  },
  {
   "cell_type": "markdown",
   "id": "0cc982bd",
   "metadata": {},
   "source": [
    "The Jena Climate dataset contains meteorological measurements recorded every **10 minutes** from 2009 to 2016.  \n",
    "In this step, we:\n",
    "- Load the raw CSV file and parse the datetime column.  \n",
    "- Downsample the data to **hourly frequency** to remove redundancy.  \n",
    "- Drop unused temperature columns (`Tpot (K)` and `Tdew (degC)`) but keep the timestamp for later feature engineering.  \n",
    "- Perform quick sanity checks on shape and column consistency."
   ]
  },
  {
   "cell_type": "code",
   "execution_count": 149,
   "id": "0e536266",
   "metadata": {},
   "outputs": [],
   "source": [
    "# -- Load the raw dataset (10-minute resolution) --\n",
    "df = pd.read_csv('../data/Jena_Climate/jena_climate.csv')"
   ]
  },
  {
   "cell_type": "code",
   "execution_count": 150,
   "id": "26bbf6ce",
   "metadata": {},
   "outputs": [
    {
     "data": {
      "text/plain": [
       "(420551, 15)"
      ]
     },
     "execution_count": 150,
     "metadata": {},
     "output_type": "execute_result"
    }
   ],
   "source": [
    "df.shape"
   ]
  },
  {
   "cell_type": "code",
   "execution_count": 151,
   "id": "13e669af",
   "metadata": {},
   "outputs": [],
   "source": [
    "# -- Parse datetime column with explicit European format --\n",
    "df['Date Time'] = pd.to_datetime(df['Date Time'], format='%d.%m.%Y %H:%M:%S')"
   ]
  },
  {
   "cell_type": "code",
   "execution_count": 152,
   "id": "8ad44704",
   "metadata": {},
   "outputs": [],
   "source": [
    "# -- Downsample to hourly frequency (keep only rows where minute == 0) --\n",
    "# This reduces temporal redundancy while keeping daily patterns.\n",
    "df = df[df['Date Time'].dt.minute == 0].reset_index(drop=True)"
   ]
  },
  {
   "cell_type": "code",
   "execution_count": 153,
   "id": "6dd40406",
   "metadata": {},
   "outputs": [
    {
     "data": {
      "text/html": [
       "<div>\n",
       "<style scoped>\n",
       "    .dataframe tbody tr th:only-of-type {\n",
       "        vertical-align: middle;\n",
       "    }\n",
       "\n",
       "    .dataframe tbody tr th {\n",
       "        vertical-align: top;\n",
       "    }\n",
       "\n",
       "    .dataframe thead th {\n",
       "        text-align: right;\n",
       "    }\n",
       "</style>\n",
       "<table border=\"1\" class=\"dataframe\">\n",
       "  <thead>\n",
       "    <tr style=\"text-align: right;\">\n",
       "      <th></th>\n",
       "      <th>Date Time</th>\n",
       "      <th>p (mbar)</th>\n",
       "      <th>T (degC)</th>\n",
       "      <th>Tpot (K)</th>\n",
       "      <th>Tdew (degC)</th>\n",
       "      <th>rh (%)</th>\n",
       "      <th>VPmax (mbar)</th>\n",
       "      <th>VPact (mbar)</th>\n",
       "      <th>VPdef (mbar)</th>\n",
       "      <th>sh (g/kg)</th>\n",
       "      <th>H2OC (mmol/mol)</th>\n",
       "      <th>rho (g/m**3)</th>\n",
       "      <th>wv (m/s)</th>\n",
       "      <th>max. wv (m/s)</th>\n",
       "      <th>wd (deg)</th>\n",
       "    </tr>\n",
       "  </thead>\n",
       "  <tbody>\n",
       "    <tr>\n",
       "      <th>0</th>\n",
       "      <td>2009-01-01 01:00:00</td>\n",
       "      <td>996.50</td>\n",
       "      <td>-8.05</td>\n",
       "      <td>265.38</td>\n",
       "      <td>-8.78</td>\n",
       "      <td>94.4</td>\n",
       "      <td>3.33</td>\n",
       "      <td>3.14</td>\n",
       "      <td>0.19</td>\n",
       "      <td>1.96</td>\n",
       "      <td>3.15</td>\n",
       "      <td>1307.86</td>\n",
       "      <td>0.21</td>\n",
       "      <td>0.63</td>\n",
       "      <td>192.7</td>\n",
       "    </tr>\n",
       "    <tr>\n",
       "      <th>1</th>\n",
       "      <td>2009-01-01 02:00:00</td>\n",
       "      <td>996.62</td>\n",
       "      <td>-8.88</td>\n",
       "      <td>264.54</td>\n",
       "      <td>-9.77</td>\n",
       "      <td>93.2</td>\n",
       "      <td>3.12</td>\n",
       "      <td>2.90</td>\n",
       "      <td>0.21</td>\n",
       "      <td>1.81</td>\n",
       "      <td>2.91</td>\n",
       "      <td>1312.25</td>\n",
       "      <td>0.25</td>\n",
       "      <td>0.63</td>\n",
       "      <td>190.3</td>\n",
       "    </tr>\n",
       "    <tr>\n",
       "      <th>2</th>\n",
       "      <td>2009-01-01 03:00:00</td>\n",
       "      <td>996.84</td>\n",
       "      <td>-8.81</td>\n",
       "      <td>264.59</td>\n",
       "      <td>-9.66</td>\n",
       "      <td>93.5</td>\n",
       "      <td>3.13</td>\n",
       "      <td>2.93</td>\n",
       "      <td>0.20</td>\n",
       "      <td>1.83</td>\n",
       "      <td>2.94</td>\n",
       "      <td>1312.18</td>\n",
       "      <td>0.18</td>\n",
       "      <td>0.63</td>\n",
       "      <td>167.2</td>\n",
       "    </tr>\n",
       "    <tr>\n",
       "      <th>3</th>\n",
       "      <td>2009-01-01 04:00:00</td>\n",
       "      <td>996.99</td>\n",
       "      <td>-9.05</td>\n",
       "      <td>264.34</td>\n",
       "      <td>-10.02</td>\n",
       "      <td>92.6</td>\n",
       "      <td>3.07</td>\n",
       "      <td>2.85</td>\n",
       "      <td>0.23</td>\n",
       "      <td>1.78</td>\n",
       "      <td>2.85</td>\n",
       "      <td>1313.61</td>\n",
       "      <td>0.10</td>\n",
       "      <td>0.38</td>\n",
       "      <td>240.0</td>\n",
       "    </tr>\n",
       "    <tr>\n",
       "      <th>4</th>\n",
       "      <td>2009-01-01 05:00:00</td>\n",
       "      <td>997.46</td>\n",
       "      <td>-9.63</td>\n",
       "      <td>263.72</td>\n",
       "      <td>-10.65</td>\n",
       "      <td>92.2</td>\n",
       "      <td>2.94</td>\n",
       "      <td>2.71</td>\n",
       "      <td>0.23</td>\n",
       "      <td>1.69</td>\n",
       "      <td>2.71</td>\n",
       "      <td>1317.19</td>\n",
       "      <td>0.40</td>\n",
       "      <td>0.88</td>\n",
       "      <td>157.0</td>\n",
       "    </tr>\n",
       "  </tbody>\n",
       "</table>\n",
       "</div>"
      ],
      "text/plain": [
       "            Date Time  p (mbar)  T (degC)  Tpot (K)  Tdew (degC)  rh (%)  \\\n",
       "0 2009-01-01 01:00:00    996.50     -8.05    265.38        -8.78    94.4   \n",
       "1 2009-01-01 02:00:00    996.62     -8.88    264.54        -9.77    93.2   \n",
       "2 2009-01-01 03:00:00    996.84     -8.81    264.59        -9.66    93.5   \n",
       "3 2009-01-01 04:00:00    996.99     -9.05    264.34       -10.02    92.6   \n",
       "4 2009-01-01 05:00:00    997.46     -9.63    263.72       -10.65    92.2   \n",
       "\n",
       "   VPmax (mbar)  VPact (mbar)  VPdef (mbar)  sh (g/kg)  H2OC (mmol/mol)  \\\n",
       "0          3.33          3.14          0.19       1.96             3.15   \n",
       "1          3.12          2.90          0.21       1.81             2.91   \n",
       "2          3.13          2.93          0.20       1.83             2.94   \n",
       "3          3.07          2.85          0.23       1.78             2.85   \n",
       "4          2.94          2.71          0.23       1.69             2.71   \n",
       "\n",
       "   rho (g/m**3)  wv (m/s)  max. wv (m/s)  wd (deg)  \n",
       "0       1307.86      0.21           0.63     192.7  \n",
       "1       1312.25      0.25           0.63     190.3  \n",
       "2       1312.18      0.18           0.63     167.2  \n",
       "3       1313.61      0.10           0.38     240.0  \n",
       "4       1317.19      0.40           0.88     157.0  "
      ]
     },
     "execution_count": 153,
     "metadata": {},
     "output_type": "execute_result"
    }
   ],
   "source": [
    "df.head(5)"
   ]
  },
  {
   "cell_type": "code",
   "execution_count": 154,
   "id": "42292aa8",
   "metadata": {},
   "outputs": [],
   "source": [
    "# -- Drop unused temperature-related columns --\n",
    "# We'll keep 'Date Time' for time-based splits and feature engineering later.\n",
    "df = df.drop(columns=['Tpot (K)', 'Tdew (degC)'])"
   ]
  },
  {
   "cell_type": "code",
   "execution_count": 155,
   "id": "47c5f4fa",
   "metadata": {},
   "outputs": [
    {
     "name": "stdout",
     "output_type": "stream",
     "text": [
      "Shape after hourly sampling: (70092, 13)\n"
     ]
    },
    {
     "data": {
      "text/html": [
       "<div>\n",
       "<style scoped>\n",
       "    .dataframe tbody tr th:only-of-type {\n",
       "        vertical-align: middle;\n",
       "    }\n",
       "\n",
       "    .dataframe tbody tr th {\n",
       "        vertical-align: top;\n",
       "    }\n",
       "\n",
       "    .dataframe thead th {\n",
       "        text-align: right;\n",
       "    }\n",
       "</style>\n",
       "<table border=\"1\" class=\"dataframe\">\n",
       "  <thead>\n",
       "    <tr style=\"text-align: right;\">\n",
       "      <th></th>\n",
       "      <th>Date Time</th>\n",
       "      <th>p (mbar)</th>\n",
       "      <th>T (degC)</th>\n",
       "      <th>rh (%)</th>\n",
       "      <th>VPmax (mbar)</th>\n",
       "      <th>VPact (mbar)</th>\n",
       "      <th>VPdef (mbar)</th>\n",
       "      <th>sh (g/kg)</th>\n",
       "      <th>H2OC (mmol/mol)</th>\n",
       "      <th>rho (g/m**3)</th>\n",
       "      <th>wv (m/s)</th>\n",
       "      <th>max. wv (m/s)</th>\n",
       "      <th>wd (deg)</th>\n",
       "    </tr>\n",
       "  </thead>\n",
       "  <tbody>\n",
       "    <tr>\n",
       "      <th>0</th>\n",
       "      <td>2009-01-01 01:00:00</td>\n",
       "      <td>996.50</td>\n",
       "      <td>-8.05</td>\n",
       "      <td>94.4</td>\n",
       "      <td>3.33</td>\n",
       "      <td>3.14</td>\n",
       "      <td>0.19</td>\n",
       "      <td>1.96</td>\n",
       "      <td>3.15</td>\n",
       "      <td>1307.86</td>\n",
       "      <td>0.21</td>\n",
       "      <td>0.63</td>\n",
       "      <td>192.7</td>\n",
       "    </tr>\n",
       "    <tr>\n",
       "      <th>1</th>\n",
       "      <td>2009-01-01 02:00:00</td>\n",
       "      <td>996.62</td>\n",
       "      <td>-8.88</td>\n",
       "      <td>93.2</td>\n",
       "      <td>3.12</td>\n",
       "      <td>2.90</td>\n",
       "      <td>0.21</td>\n",
       "      <td>1.81</td>\n",
       "      <td>2.91</td>\n",
       "      <td>1312.25</td>\n",
       "      <td>0.25</td>\n",
       "      <td>0.63</td>\n",
       "      <td>190.3</td>\n",
       "    </tr>\n",
       "    <tr>\n",
       "      <th>2</th>\n",
       "      <td>2009-01-01 03:00:00</td>\n",
       "      <td>996.84</td>\n",
       "      <td>-8.81</td>\n",
       "      <td>93.5</td>\n",
       "      <td>3.13</td>\n",
       "      <td>2.93</td>\n",
       "      <td>0.20</td>\n",
       "      <td>1.83</td>\n",
       "      <td>2.94</td>\n",
       "      <td>1312.18</td>\n",
       "      <td>0.18</td>\n",
       "      <td>0.63</td>\n",
       "      <td>167.2</td>\n",
       "    </tr>\n",
       "    <tr>\n",
       "      <th>3</th>\n",
       "      <td>2009-01-01 04:00:00</td>\n",
       "      <td>996.99</td>\n",
       "      <td>-9.05</td>\n",
       "      <td>92.6</td>\n",
       "      <td>3.07</td>\n",
       "      <td>2.85</td>\n",
       "      <td>0.23</td>\n",
       "      <td>1.78</td>\n",
       "      <td>2.85</td>\n",
       "      <td>1313.61</td>\n",
       "      <td>0.10</td>\n",
       "      <td>0.38</td>\n",
       "      <td>240.0</td>\n",
       "    </tr>\n",
       "    <tr>\n",
       "      <th>4</th>\n",
       "      <td>2009-01-01 05:00:00</td>\n",
       "      <td>997.46</td>\n",
       "      <td>-9.63</td>\n",
       "      <td>92.2</td>\n",
       "      <td>2.94</td>\n",
       "      <td>2.71</td>\n",
       "      <td>0.23</td>\n",
       "      <td>1.69</td>\n",
       "      <td>2.71</td>\n",
       "      <td>1317.19</td>\n",
       "      <td>0.40</td>\n",
       "      <td>0.88</td>\n",
       "      <td>157.0</td>\n",
       "    </tr>\n",
       "  </tbody>\n",
       "</table>\n",
       "</div>"
      ],
      "text/plain": [
       "            Date Time  p (mbar)  T (degC)  rh (%)  VPmax (mbar)  VPact (mbar)  \\\n",
       "0 2009-01-01 01:00:00    996.50     -8.05    94.4          3.33          3.14   \n",
       "1 2009-01-01 02:00:00    996.62     -8.88    93.2          3.12          2.90   \n",
       "2 2009-01-01 03:00:00    996.84     -8.81    93.5          3.13          2.93   \n",
       "3 2009-01-01 04:00:00    996.99     -9.05    92.6          3.07          2.85   \n",
       "4 2009-01-01 05:00:00    997.46     -9.63    92.2          2.94          2.71   \n",
       "\n",
       "   VPdef (mbar)  sh (g/kg)  H2OC (mmol/mol)  rho (g/m**3)  wv (m/s)  \\\n",
       "0          0.19       1.96             3.15       1307.86      0.21   \n",
       "1          0.21       1.81             2.91       1312.25      0.25   \n",
       "2          0.20       1.83             2.94       1312.18      0.18   \n",
       "3          0.23       1.78             2.85       1313.61      0.10   \n",
       "4          0.23       1.69             2.71       1317.19      0.40   \n",
       "\n",
       "   max. wv (m/s)  wd (deg)  \n",
       "0           0.63     192.7  \n",
       "1           0.63     190.3  \n",
       "2           0.63     167.2  \n",
       "3           0.38     240.0  \n",
       "4           0.88     157.0  "
      ]
     },
     "execution_count": 155,
     "metadata": {},
     "output_type": "execute_result"
    }
   ],
   "source": [
    "# -- Quick preview after preprocessing --\n",
    "print(f\"Shape after hourly sampling: {df.shape}\")\n",
    "df.head()"
   ]
  },
  {
   "cell_type": "markdown",
   "id": "4c5ee653",
   "metadata": {},
   "source": [
    "### 2️⃣ Exploring the Target Variable – Temperature"
   ]
  },
  {
   "cell_type": "markdown",
   "id": "dca95205",
   "metadata": {},
   "source": [
    "Before building any forecasting model, it’s important to visually inspect the target variable.  \n",
    "Here, we plot the temperature (`T (degC)`) over time to understand its overall structure and dynamics.\n",
    "\n",
    "**Observations:**\n",
    "- Strong **annual seasonality** with clear cycles of warm and cold periods.  \n",
    "- Short-term **daily fluctuations** within each season.  \n",
    "- Slight long-term variations that might indicate slow climate trends or sensor drift.  \n",
    "\n",
    "This confirms that our model will need to capture both **short-term** and **long-term** dependencies."
   ]
  },
  {
   "cell_type": "code",
   "execution_count": 156,
   "id": "eb6a80f1",
   "metadata": {},
   "outputs": [
    {
     "data": {
      "text/plain": [
       "<Axes: title={'center': 'Temperature over Time (Hourly Data)'}, ylabel='°C'>"
      ]
     },
     "execution_count": 156,
     "metadata": {},
     "output_type": "execute_result"
    },
    {
     "data": {
      "image/png": "[encoded data removed]",
      "text/plain": [
       "<Figure size 1000x400 with 1 Axes>"
      ]
     },
     "metadata": {},
     "output_type": "display_data"
    }
   ],
   "source": [
    "# -- Visualize the target variable: Temperature over time --\n",
    "# This helps confirm seasonality patterns and variability levels.\n",
    "temp = df[\"T (degC)\"]\n",
    "temp.plot(figsize=(10, 4), title=\"Temperature over Time (Hourly Data)\", ylabel=\"°C\")"
   ]
  },
  {
   "cell_type": "markdown",
   "id": "81e53b87",
   "metadata": {},
   "source": [
    "### 3️⃣ Windowing, Chronological Split, and Scaling"
   ]
  },
  {
   "cell_type": "markdown",
   "id": "c944e29a",
   "metadata": {},
   "source": [
    "We frame the forecasting task as: **use the last 7 days (168 hours) to predict the next 24 hours** of temperature.  \n",
    "- **Window size (W)** = 168 (one week of hourly history).  \n",
    "- **Horizon (H)** = 24 (next-day forecast).  \n",
    "- We build rolling windows over the hourly data to obtain `(X, y)` pairs.  \n",
    "- We then perform a **chronological split**: 80% train, 10% validation, 10% test.  \n",
    "- **No leakage**: scalers are fitted **only on the training set**, then applied to val/test.  \n",
    "- Shapes to expect:\n",
    "  - `X`: `(N, 168, F)` with `F` input features\n",
    "  - `y`: `(N, 24)` for the 24-hour target trajectory"
   ]
  },
  {
   "cell_type": "code",
   "execution_count": 157,
   "id": "e4a2d24c",
   "metadata": {},
   "outputs": [],
   "source": [
    "# -- Forecasting setup --\n",
    "# We use the last W=168 hours (7 days) to predict the next H=24 hours (1 day).\n",
    "W = 240\n",
    "H = 24\n",
    "\n",
    "BATCH_SIZE = 64  # Training batch size\n",
    "lr = 5e-4        # Learning rate (comment fixed: 5e-4, not 1e-3)\n",
    "weight_decay = 1e-4\n",
    "\n",
    "DEVICE = \"cuda\" if torch.cuda.is_available() else \"cpu\"\n",
    "\n",
    "# -- Input/target descriptors --\n",
    "# INPUT_SIZE counts all feature columns currently in df (we've kept 'Date Time' out already).\n",
    "INPUT_SIZE = len(df.columns)\n",
    "target = \"T (degC)\""
   ]
  },
  {
   "cell_type": "code",
   "execution_count": 158,
   "id": "50d5a9c6",
   "metadata": {},
   "outputs": [],
   "source": [
    "def df_to_window(df, W, H, target_col):\n",
    "    \"\"\"\n",
    "    Build rolling windows:\n",
    "    - X[i]  = df[i : i+W, :]\n",
    "    - y[i]  = df[i+W : i+W+H, target_col]\n",
    "    Returns:\n",
    "        X: np.ndarray of shape (N, W, F)\n",
    "        y: np.ndarray of shape (N, H)\n",
    "    \"\"\"\n",
    "    X, y = [], []\n",
    "    # Convert once to NumPy (float32 is friendlier for PyTorch)\n",
    "    df_np = df.to_numpy(dtype=np.float32)\n",
    "\n",
    "    # Iterate over all valid start indices\n",
    "    for i in range(len(df) - W - H + 1):\n",
    "        X.append(df_np[i:i+W, :])                 # (W, F)\n",
    "        y.append(df_np[i+W:i+W+H, target_col])    # (H,)\n",
    "    return np.array(X), np.array(y)"
   ]
  },
  {
   "cell_type": "code",
   "execution_count": 159,
   "id": "06f02c10",
   "metadata": {},
   "outputs": [
    {
     "name": "stdout",
     "output_type": "stream",
     "text": [
      "(69829, 240, 12) (69829, 24)\n"
     ]
    }
   ],
   "source": [
    "# -- Delete the DateTime column since we don't need it -- \n",
    "df = df.drop(columns=['Date Time'])\n",
    "\n",
    "# -- Get the column index for the target ('T (degC)') --\n",
    "index_target_col = df.columns.get_loc(\"T (degC)\")\n",
    "\n",
    "# -- Build the full windowed dataset (chronological order preserved) --\n",
    "X_full, y_full = df_to_window(df, W, H, index_target_col)\n",
    "\n",
    "# -- Quick shape check --\n",
    "# X: (N, 168, F), y: (N, 24)\n",
    "print(X_full.shape, y_full.shape)"
   ]
  },
  {
   "cell_type": "code",
   "execution_count": 160,
   "id": "5a7549e2",
   "metadata": {},
   "outputs": [
    {
     "data": {
      "text/plain": [
       "((55863, 240, 12),\n",
       " (55863, 24),\n",
       " (6982, 240, 12),\n",
       " (6982, 24),\n",
       " (6984, 240, 12),\n",
       " (6984, 24))"
      ]
     },
     "execution_count": 160,
     "metadata": {},
     "output_type": "execute_result"
    }
   ],
   "source": [
    "# -- Chronological split: 80% train, 10% val, 10% test --\n",
    "tot_len = X_full.shape[0]\n",
    "train_len = int(tot_len * 0.8)\n",
    "valid_len = int(tot_len * 0.1)\n",
    "\n",
    "X_train, y_train = X_full[:train_len], y_full[:train_len]\n",
    "X_valid, y_valid = X_full[train_len:train_len+valid_len], y_full[train_len:train_len+valid_len]\n",
    "X_test,  y_test  = X_full[train_len+valid_len:],          y_full[train_len+valid_len:]\n",
    "\n",
    "# Sanity check on shapes\n",
    "X_train.shape, y_train.shape, X_valid.shape, y_valid.shape, X_test.shape, y_test.shape"
   ]
  },
  {
   "cell_type": "code",
   "execution_count": 161,
   "id": "d1eaf97e",
   "metadata": {},
   "outputs": [],
   "source": [
    "# -- Standardize features and target using train-only statistics to avoid leakage --\n",
    "scX, scY = StandardScaler(), StandardScaler()\n",
    "\n",
    "# X: (N, W, F) -> (N*W, F) for fitting; reshape back afterwards\n",
    "Xtr = scX.fit_transform(X_train.reshape(-1, X_train.shape[-1])).reshape(X_train.shape)\n",
    "Xva = scX.transform(X_valid.reshape(-1, X_valid.shape[-1])).reshape(X_valid.shape)\n",
    "Xte = scX.transform(X_test.reshape(-1,  X_test.shape[-1])).reshape(X_test.shape)\n",
    "\n",
    "# y: (N, H) -> (N*H, 1) for fitting; reshape back afterwards\n",
    "ytr = scY.fit_transform(y_train.reshape(-1, 1)).reshape(y_train.shape)\n",
    "yva = scY.transform(y_valid.reshape(-1, 1)).reshape(y_valid.shape)\n",
    "yte = scY.transform(y_test.reshape(-1,  1)).reshape(y_test.shape)\n",
    "\n",
    "# Optional sanity checks (uncomment if you want quick assertions):\n",
    "assert np.isclose(Xtr.mean(), 0, atol=1e-2) and np.isclose(Xtr.std(), 1, atol=1e-2)\n",
    "assert np.isclose(ytr.mean(), 0, atol=1e-2) and np.isclose(ytr.std(), 1, atol=1e-2)"
   ]
  },
  {
   "cell_type": "code",
   "execution_count": 162,
   "id": "cf592b56",
   "metadata": {},
   "outputs": [
    {
     "data": {
      "text/plain": [
       "((55863, 240, 12),\n",
       " (55863, 24),\n",
       " (6982, 240, 12),\n",
       " (6982, 24),\n",
       " (6984, 240, 12),\n",
       " (6984, 24))"
      ]
     },
     "execution_count": 162,
     "metadata": {},
     "output_type": "execute_result"
    }
   ],
   "source": [
    "Xtr.shape, ytr.shape, Xva.shape, yva.shape, Xte.shape, yte.shape"
   ]
  },
  {
   "cell_type": "markdown",
   "id": "8ee99e48",
   "metadata": {},
   "source": [
    "### 4️⃣ PyTorch Datasets & DataLoaders"
   ]
  },
  {
   "cell_type": "markdown",
   "id": "54856b51",
   "metadata": {},
   "source": [
    "We convert the windowed numpy arrays into PyTorch tensors and build DataLoaders:\n",
    "\n",
    "- `TensorDataset(X, y)` pairs each input window `(W, F)` with its multi-step target `(H,)`.\n",
    "- `shuffle=True` only for the **training** set to break temporal locality within batches.\n",
    "- `pin_memory=True` is useful when moving data to GPU (speeds up host-to-device transfers).\n",
    "- We keep `num_workers=0` (Windows/lightweight setup); increase if CPU I/O becomes a bottleneck.\n",
    "- Optional: `drop_last=True` for the training loader to keep batch sizes consistent."
   ]
  },
  {
   "cell_type": "code",
   "execution_count": 163,
   "id": "ec2849f2",
   "metadata": {},
   "outputs": [],
   "source": [
    "# -- Convert numpy arrays to float32 tensors --\n",
    "X_train_t = torch.tensor(Xtr, dtype=torch.float32)\n",
    "y_train_t = torch.tensor(ytr, dtype=torch.float32)\n",
    "\n",
    "X_valid_t = torch.tensor(Xva, dtype=torch.float32)\n",
    "y_valid_t = torch.tensor(yva, dtype=torch.float32)\n",
    "\n",
    "X_test_t  = torch.tensor(Xte, dtype=torch.float32)\n",
    "y_test_t  = torch.tensor(yte, dtype=torch.float32)\n",
    "    \n",
    "\n",
    "# -- Wrap into TensorDatasets --\n",
    "train_ds = TensorDataset(X_train_t, y_train_t)\n",
    "valid_ds = TensorDataset(X_valid_t, y_valid_t)\n",
    "test_ds  = TensorDataset(X_test_t,  y_test_t)\n",
    "\n",
    "\n",
    "# -- Build DataLoaders --\n",
    "# shuffle=True only for train; pin_memory helps GPU transfers; drop_last optional for stable batch sizes\n",
    "train_loader = DataLoader(train_ds, batch_size=BATCH_SIZE, shuffle=True,num_workers=0, pin_memory=True, drop_last=True)\n",
    "valid_loader = DataLoader(valid_ds, batch_size=BATCH_SIZE, shuffle=False,num_workers=0, pin_memory=True)\n",
    "test_loader = DataLoader(test_ds,  batch_size=BATCH_SIZE, shuffle=False,num_workers=0, pin_memory=True)"
   ]
  },
  {
   "cell_type": "code",
   "execution_count": 164,
   "id": "12746be5",
   "metadata": {},
   "outputs": [
    {
     "name": "stdout",
     "output_type": "stream",
     "text": [
      "torch.Size([64, 240, 12]) torch.Size([64, 24])\n"
     ]
    }
   ],
   "source": [
    "# -- Quick sanity check: one batch --\n",
    "xb, yb = next(iter(train_loader))\n",
    "print(xb.shape, yb.shape)     # Expected: (B, 168, F) and (B, 24)"
   ]
  },
  {
   "cell_type": "markdown",
   "id": "8249dec7",
   "metadata": {},
   "source": [
    "### 5️⃣ LSTM Forecaster (7-day context → 24-hour forecast)"
   ]
  },
  {
   "cell_type": "markdown",
   "id": "1a456387",
   "metadata": {},
   "source": [
    "We use a stacked LSTM to encode the last **W=168** hours.  \n",
    "A lightweight readout head (Linear → GELU → Dropout → Linear) maps the sequence\n",
    "embedding to a **24-dimensional** output (multi-step forecast for the next day).\n",
    "\n",
    "Design choices:\n",
    "- **Temporal pooling**: mean over the last **K** steps (default `K=8`) to stabilize the readout.\n",
    "- **Bidirectionality** is disabled to avoid peeking into the future (strict causal setting).\n",
    "- **Dropout** is only applied between LSTM layers (PyTorch) and in the MLP head."
   ]
  },
  {
   "cell_type": "code",
   "execution_count": 165,
   "id": "ef8515e8",
   "metadata": {},
   "outputs": [],
   "source": [
    "class Predictor(nn.Module):\n",
    "    def __init__(\n",
    "        self,\n",
    "        input_dim,              # number of input features (F)\n",
    "        hidden_dim=128,         # LSTM hidden size per direction\n",
    "        num_layers=2,           # stacked LSTM layers\n",
    "        output_dim=24,          # multi-step horizon (24 hours)\n",
    "        dropout=0.3,            # LSTM inter-layer dropout (if num_layers > 1)\n",
    "        K=8,                    # pool over the last K time steps\n",
    "        bidirectional=False     # keep False to avoid look-ahead (causality)\n",
    "    ):\n",
    "        super().__init__()\n",
    "        self.K = K\n",
    "\n",
    "        # LSTM outputs (B, T, feat) with feat = hidden_dim * (2 if bidir else 1)\n",
    "        self.lstm = nn.LSTM(\n",
    "            input_size=input_dim,\n",
    "            hidden_size=hidden_dim,\n",
    "            num_layers=num_layers,\n",
    "            batch_first=True,\n",
    "            dropout=dropout if num_layers > 1 else 0.0,\n",
    "            bidirectional=bidirectional,\n",
    "        )\n",
    "        feat = hidden_dim * (2 if bidirectional else 1)\n",
    "\n",
    "        # MLP readout head: feat -> (feat//2, >=32) -> output_dim\n",
    "        mid = max(32, feat // 2)\n",
    "        self.fc1 = nn.Linear(feat, mid)\n",
    "        self.fc2 = nn.Linear(mid, output_dim)\n",
    "        self.dropout = nn.Dropout(0.1)\n",
    "\n",
    "        # Initialize the final layer a bit smaller for stability\n",
    "        nn.init.xavier_uniform_(self.fc1.weight)\n",
    "        nn.init.zeros_(self.fc1.bias)\n",
    "        nn.init.xavier_uniform_(self.fc2.weight, gain=0.5)\n",
    "        nn.init.zeros_(self.fc2.bias)\n",
    "\n",
    "    def forward(self, x):\n",
    "        \"\"\"\n",
    "        x: (B, T, F) where T = 168 and F = input_dim\n",
    "        returns: (B, 24)\n",
    "        \"\"\"\n",
    "        # Speed-up for CuDNN LSTM on contiguous params\n",
    "        self.lstm.flatten_parameters()\n",
    "\n",
    "        out, _ = self.lstm(x)          # (B, T, feat)\n",
    "\n",
    "        # Mean-pool over the last K time steps (robust vs. last-step noise)\n",
    "        k = min(self.K, out.size(1))\n",
    "        out = out[:, -k:, :].mean(dim=1)   # (B, feat)\n",
    "\n",
    "        # Readout head\n",
    "        out = F.gelu(self.fc1(out))        # (B, mid)\n",
    "        out = self.dropout(out)\n",
    "        out = self.fc2(out)                # (B, 24)\n",
    "        return out"
   ]
  },
  {
   "cell_type": "markdown",
   "id": "085e1c8e",
   "metadata": {},
   "source": [
    "### 6️⃣ Training & Evaluation Loops"
   ]
  },
  {
   "cell_type": "markdown",
   "id": "955e7bcf",
   "metadata": {},
   "source": [
    "We train the LSTM forecaster with mini-batches and evaluate on a held-out\n",
    "validation set:\n",
    "\n",
    "- **Loss**: MAE (L1) or MSE on **standardized targets** (no leakage).\n",
    "- **Averaging**: losses are accumulated *per sample* to avoid batch-size bias.\n",
    "- **Best model**: we track the lowest validation loss and keep the corresponding weights.\n",
    "- **Stability**: light gradient clipping prevents rare exploding updates.\n",
    "- **Reproducibility**: fixed seeds and deterministic cuDNN where applicable."
   ]
  },
  {
   "cell_type": "code",
   "execution_count": null,
   "id": "6a36055c",
   "metadata": {},
   "outputs": [],
   "source": [
    "def train(model, train_loader, optimizer, loss_fn, device=DEVICE, max_grad_norm=1.0):\n",
    "    \"\"\"\n",
    "    One full training epoch.\n",
    "    - Accumulates loss per-sample to compute an epoch average.\n",
    "    - Applies light gradient clipping for stability.\n",
    "    \"\"\"\n",
    "    model.train()\n",
    "    epoch_loss_sum = 0.0\n",
    "    epoch_num_samples = 0\n",
    "\n",
    "    for X, y in train_loader:\n",
    "        # Move batch to device\n",
    "        X = X.to(device=device, non_blocking=True)\n",
    "        y = y.to(device=device, non_blocking=True)\n",
    "\n",
    "        # Standard training step\n",
    "        optimizer.zero_grad(set_to_none=True)\n",
    "        pred = model(X)                  # forward\n",
    "        loss = loss_fn(pred, y)          # scalar loss on standardized scale\n",
    "        loss.backward()                  # backward\n",
    "\n",
    "        # Gradient clipping (1.0)\n",
    "        if max_grad_norm is not None:\n",
    "            torch.nn.utils.clip_grad_norm_(model.parameters(), max_grad_norm)\n",
    "\n",
    "        optimizer.step()\n",
    "\n",
    "        # Accumulate loss *per-sample* to average correctly at epoch end\n",
    "        bs = X.size(0)\n",
    "        epoch_loss_sum += loss.item() * bs\n",
    "        epoch_num_samples += bs\n",
    "\n",
    "    # Average epoch loss\n",
    "    return epoch_loss_sum / max(epoch_num_samples, 1)\n",
    "\n",
    "\n",
    "def evaluate(model, loader, loss_fn, device=DEVICE):\n",
    "    \"\"\"\n",
    "    Evaluation loop (no gradient) and model in evaluation mode. Returns the average loss per sample.\n",
    "    \"\"\"\n",
    "    model.eval()\n",
    "    total_loss = 0.0\n",
    "    total_samples = 0\n",
    "\n",
    "    with torch.no_grad():\n",
    "        for X, y in loader:\n",
    "            X = X.to(device=device, non_blocking=True)\n",
    "            y = y.to(device=device, non_blocking=True)\n",
    "\n",
    "            output = model(X)\n",
    "            val_loss = loss_fn(output, y)\n",
    "\n",
    "            bs = X.size(0)\n",
    "            total_loss += val_loss.item() * bs\n",
    "            total_samples += bs\n",
    "\n",
    "    return total_loss / max(total_samples, 1)  # mean loss over the dataset"
   ]
  },
  {
   "cell_type": "code",
   "execution_count": 167,
   "id": "b5322c91",
   "metadata": {},
   "outputs": [],
   "source": [
    "def eval_mae_rmse_celsius(model, loader, scY, device=DEVICE):\n",
    "    \"\"\"\n",
    "    Compute MAE/RMSE in physical units (°C) by inverse transforming the targets.\n",
    "    \"\"\"\n",
    "    model.eval()\n",
    "    abs_err, sq_err, n = 0.0, 0.0, 0\n",
    "\n",
    "    with torch.no_grad():\n",
    "        for X, y in loader:\n",
    "            X = X.to(device); y = y.to(device)\n",
    "            y_hat_std = model(X)                            # (B, H)\n",
    "            # back to numpy for inverse scaling\n",
    "            y_hat = scY.inverse_transform(y_hat_std.cpu().numpy().reshape(-1,1)).reshape(-1, y.shape[1])\n",
    "            y_true = scY.inverse_transform(y.cpu().numpy().reshape(-1,1)).reshape(-1, y.shape[1])\n",
    "\n",
    "            diff = y_hat - y_true                           # (B, H)\n",
    "            abs_err += np.abs(diff).sum()\n",
    "            sq_err  += (diff**2).sum()\n",
    "            n       += diff.size\n",
    "\n",
    "    mae  = abs_err / n\n",
    "    rmse = np.sqrt(sq_err / n)\n",
    "    return mae, rmse\n"
   ]
  },
  {
   "cell_type": "markdown",
   "id": "45a154f8",
   "metadata": {},
   "source": [
    "### 7️⃣ Optimization Setup & Training Loop"
   ]
  },
  {
   "cell_type": "markdown",
   "id": "06c29aa2",
   "metadata": {},
   "source": [
    "\n",
    "We train the LSTM forecaster with **AdamW** and monitor validation loss with\n",
    "**ReduceLROnPlateau**. We keep the **best checkpoint** (lowest val loss) and use\n",
    "**early stopping** to prevent overfitting.\n",
    "\n",
    "- **Loss**: MSE on standardized targets (stable and smooth for multi-step).\n",
    "- **Scheduler**: halve the LR after a patience of 2 epochs without improvement.\n",
    "- **Early stopping**: stop after 10 bad epochs.\n",
    "- **Metrics**: we also report validation **MAE/RMSE in °C** (inverse-scaled) per epoch."
   ]
  },
  {
   "cell_type": "code",
   "execution_count": 168,
   "id": "e1374718",
   "metadata": {},
   "outputs": [],
   "source": [
    "# -- Model / optimizer / loss / scheduler --\n",
    "input_dim = X_train_t.shape[-1]\n",
    "model = Predictor(input_dim=input_dim, hidden_dim=64, num_layers=2, output_dim=H).to(device=DEVICE)\n",
    "loss_fn   = nn.MSELoss()  # training loss on standardized scale\n",
    "optimizer = optim.AdamW(model.parameters(), lr=lr, weight_decay=weight_decay)\n",
    "\n",
    "# Plateau scheduler: reduce LR when val loss stops improving\n",
    "scheduler = torch.optim.lr_scheduler.ReduceLROnPlateau(\n",
    "    optimizer, factor=0.5, patience=2, min_lr=1e-6)"
   ]
  },
  {
   "cell_type": "code",
   "execution_count": 169,
   "id": "477e2e8a",
   "metadata": {},
   "outputs": [
    {
     "name": "stdout",
     "output_type": "stream",
     "text": [
      "Epoch 1 | Train=0.2156 | Val=0.1301 | MAE°C=2.324 | RMSE°C=3.017 | LR=5.00e-04\n",
      "Epoch 2 | Train=0.1171 | Val=0.1213 | MAE°C=2.251 | RMSE°C=2.913 | LR=5.00e-04\n",
      "Epoch 3 | Train=0.1075 | Val=0.1093 | MAE°C=2.127 | RMSE°C=2.765 | LR=5.00e-04\n",
      "Epoch 4 | Train=0.1007 | Val=0.1069 | MAE°C=2.114 | RMSE°C=2.735 | LR=5.00e-04\n",
      "Epoch 5 | Train=0.0954 | Val=0.1048 | MAE°C=2.082 | RMSE°C=2.707 | LR=5.00e-04\n",
      "Epoch 6 | Train=0.0918 | Val=0.1045 | MAE°C=2.068 | RMSE°C=2.705 | LR=5.00e-04\n",
      "Epoch 7 | Train=0.0880 | Val=0.1044 | MAE°C=2.069 | RMSE°C=2.703 | LR=5.00e-04\n",
      "Epoch 8 | Train=0.0848 | Val=0.1061 | MAE°C=2.093 | RMSE°C=2.724 | LR=5.00e-04\n",
      "Epoch 9 | Train=0.0817 | Val=0.1017 | MAE°C=2.041 | RMSE°C=2.667 | LR=5.00e-04\n",
      "Epoch 10 | Train=0.0784 | Val=0.1007 | MAE°C=2.035 | RMSE°C=2.655 | LR=5.00e-04\n",
      "Epoch 11 | Train=0.0753 | Val=0.1082 | MAE°C=2.104 | RMSE°C=2.751 | LR=5.00e-04\n",
      "Epoch 12 | Train=0.0724 | Val=0.1121 | MAE°C=2.137 | RMSE°C=2.801 | LR=5.00e-04\n",
      "Epoch 13 | Train=0.0692 | Val=0.1054 | MAE°C=2.086 | RMSE°C=2.715 | LR=2.50e-04\n",
      "Epoch 14 | Train=0.0640 | Val=0.1147 | MAE°C=2.169 | RMSE°C=2.833 | LR=2.50e-04\n",
      "Epoch 15 | Train=0.0617 | Val=0.1094 | MAE°C=2.124 | RMSE°C=2.766 | LR=2.50e-04\n",
      "Epoch 16 | Train=0.0599 | Val=0.1118 | MAE°C=2.155 | RMSE°C=2.796 | LR=1.25e-04\n",
      "Epoch 17 | Train=0.0575 | Val=0.1121 | MAE°C=2.158 | RMSE°C=2.800 | LR=1.25e-04\n",
      "Epoch 18 | Train=0.0561 | Val=0.1173 | MAE°C=2.212 | RMSE°C=2.864 | LR=1.25e-04\n",
      "Epoch 19 | Train=0.0555 | Val=0.1176 | MAE°C=2.213 | RMSE°C=2.869 | LR=6.25e-05\n",
      "Early stop at epoch 20. Best val=0.1007 (epoch 10)\n"
     ]
    },
    {
     "data": {
      "text/plain": [
       "Predictor(\n",
       "  (lstm): LSTM(12, 64, num_layers=2, batch_first=True, dropout=0.3)\n",
       "  (fc1): Linear(in_features=64, out_features=32, bias=True)\n",
       "  (fc2): Linear(in_features=32, out_features=24, bias=True)\n",
       "  (dropout): Dropout(p=0.1, inplace=False)\n",
       ")"
      ]
     },
     "execution_count": 169,
     "metadata": {},
     "output_type": "execute_result"
    }
   ],
   "source": [
    "# Training configuration\n",
    "EPOCHS   = 50\n",
    "patience = 10  # early stopping patience\n",
    "bad      = 0\n",
    "\n",
    "best_val   = float(\"inf\")\n",
    "best_state = None\n",
    "best_epoch = 0\n",
    "\n",
    "for epoch in range(1, EPOCHS + 1):\n",
    "    # --- Training and validation ---\n",
    "    train_loss = train(model, train_loader, optimizer, loss_fn)\n",
    "    val_loss   = evaluate(model, valid_loader, loss_fn)\n",
    "    scheduler.step(val_loss)\n",
    "\n",
    "    # -- Evaluate physical-scale metrics (in °C) --\n",
    "    val_mae_c, val_rmse_c = eval_mae_rmse_celsius(model, valid_loader, scY)\n",
    "\n",
    "    # --- Track the best model ---\n",
    "    if val_loss < best_val:\n",
    "        best_val   = val_loss\n",
    "        best_state = {k: v.cpu() for k, v in model.state_dict().items()}\n",
    "        best_epoch = epoch\n",
    "        bad = 0\n",
    "    else:\n",
    "        bad += 1\n",
    "        if bad >= patience:\n",
    "            print(f\"Early stop at epoch {epoch}. Best val={best_val:.4f} (epoch {best_epoch})\")\n",
    "            break\n",
    "\n",
    "    # --- Log training progress ---\n",
    "    print(f\"Epoch {epoch} | Train={train_loss:.4f} | Val={val_loss:.4f} \"\n",
    "          f\"| MAE°C={val_mae_c:.3f} | RMSE°C={val_rmse_c:.3f} | LR={optimizer.param_groups[0]['lr']:.2e}\")\n",
    "\n",
    "# --- Restore best checkpoint ---\n",
    "model.load_state_dict(best_state)\n",
    "model.to(DEVICE)"
   ]
  },
  {
   "cell_type": "markdown",
   "id": "35ada75a",
   "metadata": {},
   "source": [
    "Training converged quickly with the best validation loss around **epoch 10**, followed by a mild\n",
    "overfitting trend. The best validation MAE is ~**2°C**, which is promising.  \n",
    "To contextualize this, we compare against a **persistence baseline** (tomorrow's temperature equals\n",
    "today's at the same hour) and then report final **test** metrics."
   ]
  },
  {
   "cell_type": "markdown",
   "id": "cc609120",
   "metadata": {},
   "source": [
    "### 8️⃣ Test Set Performance vs. Persistence Baseline"
   ]
  },
  {
   "cell_type": "code",
   "execution_count": 170,
   "id": "eb2a718e",
   "metadata": {},
   "outputs": [
    {
     "name": "stdout",
     "output_type": "stream",
     "text": [
      "Persistence (VAL)  → MAE=2.806°C | RMSE=3.655°C\n",
      "Persistence (TEST) → MAE=2.368°C | RMSE=3.079°C\n"
     ]
    }
   ],
   "source": [
    "# -- Persistence baseline --\n",
    "# For each (X,y), the baseline predicts that the next 24h equal the last 24h observed.\n",
    "# That is, for horizon h=1..24, y_hat[:, h] = X[:, -24 + (h-1), target_feature]\n",
    "\n",
    "def persistence_baseline_mae_rmse(X, y, target_idx, scY):\n",
    "    \"\"\"\n",
    "    X: (N, W, F)    standardized features\n",
    "    y: (N, H)       standardized targets (or physical if scY is None)\n",
    "    target_idx: int index of target column in X\n",
    "    scY: StandardScaler fitted on y (for inverse-transform to °C)\n",
    "\n",
    "    Returns: (MAE°C, RMSE°C)\n",
    "    \"\"\"\n",
    "    # Take the last 24 time steps of the target feature from X as prediction\n",
    "    last_24 = X[:, -y.shape[1]:, target_idx]             # (N, H) on standardized feature scale\n",
    "\n",
    "    # Bring both true labels and predicted labels to °C for human-readable metrics\n",
    "    y_true = scY.inverse_transform(y.reshape(-1,1)).reshape(y.shape)\n",
    "    # We must map the standardized *feature* back to target scale too:\n",
    "    y_hat  = scY.inverse_transform(last_24.reshape(-1,1)).reshape(last_24.shape)\n",
    "\n",
    "\n",
    "    diff = y_hat - y_true\n",
    "    mae  = np.abs(diff).mean()\n",
    "    rmse = np.sqrt((diff**2).mean())\n",
    "    return mae, rmse\n",
    "\n",
    "target_idx = index_target_col  # already computed earlier\n",
    "\n",
    "val_p_mae,  val_p_rmse  = persistence_baseline_mae_rmse(Xva, yva, target_idx, scY)\n",
    "test_p_mae, test_p_rmse = persistence_baseline_mae_rmse(Xte, yte, target_idx, scY)\n",
    "\n",
    "print(f\"Persistence (VAL)  → MAE={val_p_mae:.3f}°C | RMSE={val_p_rmse:.3f}°C\")\n",
    "print(f\"Persistence (TEST) → MAE={test_p_mae:.3f}°C | RMSE={test_p_rmse:.3f}°C\")"
   ]
  },
  {
   "cell_type": "code",
   "execution_count": 171,
   "id": "69670499",
   "metadata": {},
   "outputs": [
    {
     "name": "stdout",
     "output_type": "stream",
     "text": [
      "Model (TEST) → MAE=1.792°C | RMSE=2.339°C\n"
     ]
    }
   ],
   "source": [
    "# Final evaluation with the best checkpoint already loaded\n",
    "test_mae_c, test_rmse_c = eval_mae_rmse_celsius(model, test_loader, scY)\n",
    "print(f\"Model (TEST) → MAE={test_mae_c:.3f}°C | RMSE={test_rmse_c:.3f}°C\")"
   ]
  },
  {
   "cell_type": "markdown",
   "id": "ac97377c",
   "metadata": {},
   "source": [
    "We compare the LSTM forecaster against a persistence baseline (tomorrow’s temperature\n",
    "equals today’s at the same hour):\n",
    "\n",
    "- **Baseline (TEST)** — MAE: 2.369 °C, RMSE: 3.080 °C  \n",
    "- **Model (TEST)** — MAE: 1.792 °C, RMSE: 2.339 °C  \n",
    "\n",
    "**Result:** The model improves over persistence by **~25% MAE** and **~25% RMSE** on the test set, \n",
    "which indicates meaningful predictive skill beyond seasonal repetition.\n"
   ]
  }
 ],
 "metadata": {
  "kernelspec": {
   "display_name": "dl_env",
   "language": "python",
   "name": "python3"
  },
  "language_info": {
   "codemirror_mode": {
    "name": "ipython",
    "version": 3
   },
   "file_extension": ".py",
   "mimetype": "text/x-python",
   "name": "python",
   "nbconvert_exporter": "python",
   "pygments_lexer": "ipython3",
   "version": "3.11.13"
  }
 },
 "nbformat": 4,
 "nbformat_minor": 5
}
